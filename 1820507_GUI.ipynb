{
  "cells": [
    {
      "cell_type": "markdown",
      "metadata": {
        "id": "view-in-github",
        "colab_type": "text"
      },
      "source": [
        "<a href=\"https://colab.research.google.com/github/MA18A/Quiz2-3/blob/main/1820507_GUI.ipynb\" target=\"_parent\"><img src=\"https://colab.research.google.com/assets/colab-badge.svg\" alt=\"Open In Colab\"/></a>"
      ]
    },
    {
      "cell_type": "code",
      "execution_count": null,
      "id": "4a1b24fb",
      "metadata": {
        "id": "4a1b24fb",
        "colab": {
          "base_uri": "https://localhost:8080/",
          "height": 373
        },
        "outputId": "9bd1d477-d17c-4a84-805a-4db53e7304b9"
      },
      "outputs": [
        {
          "output_type": "error",
          "ename": "ModuleNotFoundError",
          "evalue": "ignored",
          "traceback": [
            "\u001b[0;31m---------------------------------------------------------------------------\u001b[0m",
            "\u001b[0;31mModuleNotFoundError\u001b[0m                       Traceback (most recent call last)",
            "\u001b[0;32m<ipython-input-1-e8bf6fb82b56>\u001b[0m in \u001b[0;36m<module>\u001b[0;34m\u001b[0m\n\u001b[0;32m----> 1\u001b[0;31m \u001b[0;32mfrom\u001b[0m \u001b[0mPyQt5\u001b[0m\u001b[0;34m.\u001b[0m\u001b[0mQtWidgets\u001b[0m \u001b[0;32mimport\u001b[0m \u001b[0mQApplication\u001b[0m\u001b[0;34m,\u001b[0m \u001b[0mQWidget\u001b[0m\u001b[0;34m,\u001b[0m \u001b[0mQLabel\u001b[0m\u001b[0;34m,\u001b[0m \u001b[0mQSlider\u001b[0m\u001b[0;34m,\u001b[0m \u001b[0mQHBoxLayout\u001b[0m\u001b[0;34m,\u001b[0m \u001b[0mQVBoxLayout\u001b[0m\u001b[0;34m,\u001b[0m \u001b[0mQPushButton\u001b[0m\u001b[0;34m,\u001b[0m \u001b[0mQFileDialog\u001b[0m\u001b[0;34m,\u001b[0m \u001b[0mQGridLayout\u001b[0m\u001b[0;34m\u001b[0m\u001b[0;34m\u001b[0m\u001b[0m\n\u001b[0m\u001b[1;32m      2\u001b[0m \u001b[0;32mfrom\u001b[0m \u001b[0mPyQt5\u001b[0m\u001b[0;34m.\u001b[0m\u001b[0mQtGui\u001b[0m \u001b[0;32mimport\u001b[0m \u001b[0mQPixmap\u001b[0m\u001b[0;34m,\u001b[0m \u001b[0mQImage\u001b[0m\u001b[0;34m\u001b[0m\u001b[0;34m\u001b[0m\u001b[0m\n\u001b[1;32m      3\u001b[0m \u001b[0;32mfrom\u001b[0m \u001b[0mPyQt5\u001b[0m\u001b[0;34m.\u001b[0m\u001b[0mQtCore\u001b[0m \u001b[0;32mimport\u001b[0m \u001b[0mQt\u001b[0m\u001b[0;34m\u001b[0m\u001b[0;34m\u001b[0m\u001b[0m\n\u001b[1;32m      4\u001b[0m \u001b[0;32mimport\u001b[0m \u001b[0mnumpy\u001b[0m \u001b[0;32mas\u001b[0m \u001b[0mnp\u001b[0m\u001b[0;34m\u001b[0m\u001b[0;34m\u001b[0m\u001b[0m\n\u001b[1;32m      5\u001b[0m \u001b[0;32mimport\u001b[0m \u001b[0mcv2\u001b[0m\u001b[0;34m\u001b[0m\u001b[0;34m\u001b[0m\u001b[0m\n",
            "\u001b[0;31mModuleNotFoundError\u001b[0m: No module named 'PyQt5'",
            "",
            "\u001b[0;31m---------------------------------------------------------------------------\u001b[0;32m\nNOTE: If your import is failing due to a missing package, you can\nmanually install dependencies using either !pip or !apt.\n\nTo view examples of installing some common dependencies, click the\n\"Open Examples\" button below.\n\u001b[0;31m---------------------------------------------------------------------------\u001b[0m\n"
          ],
          "errorDetails": {
            "actions": [
              {
                "action": "open_url",
                "actionText": "Open Examples",
                "url": "/notebooks/snippets/importing_libraries.ipynb"
              }
            ]
          }
        }
      ],
      "source": [
        "from PyQt5.QtWidgets import QApplication, QWidget, QLabel, QSlider, QHBoxLayout, QVBoxLayout, QPushButton, QFileDialog, QGridLayout\n",
        "from PyQt5.QtGui import QPixmap, QImage\n",
        "from PyQt5.QtCore import Qt\n",
        "import numpy as np\n",
        "import cv2\n",
        "import sys"
      ]
    },
    {
      "cell_type": "code",
      "execution_count": null,
      "id": "7b462a30",
      "metadata": {
        "id": "7b462a30"
      },
      "outputs": [],
      "source": [
        "class DetectCircles(QWidget):\n",
        "    def __init__(self):\n",
        "        super().__init__()\n",
        "        self.initUI()\n",
        "        \n",
        "    def initUI(self):\n",
        "        # To create labels to display the images:\n",
        "        self.image_label = QLabel(self)\n",
        "        self.edge_label = QLabel(self)\n",
        "        \n",
        "        # To create a label for the title:\n",
        "        self.title_label = QLabel('Finding circles in images using Hough Transform')\n",
        "        self.title_label.setAlignment(Qt.AlignCenter)  # Center the title label\n",
        "        \n",
        "        # To create sliders to control the parameters of Hough transform:\n",
        "        self.param1_slider = QSlider(Qt.Horizontal)\n",
        "        self.param1_slider.setMinimum(1)\n",
        "        self.param1_slider.setMaximum(255)\n",
        "        self.param1_slider.setValue(50)\n",
        "        self.param2_slider = QSlider(Qt.Horizontal)\n",
        "        self.param2_slider.setMinimum(1)\n",
        "        self.param2_slider.setMaximum(50)\n",
        "        self.param2_slider.setValue(30)\n",
        "        \n",
        "        # To create a button to load the image:\n",
        "        self.load_button = QPushButton('Load Image')\n",
        "        self.load_button.clicked.connect(self.load_image)\n",
        "        \n",
        "        # To create a button to detect edges:\n",
        "        self.detect_button = QPushButton('Detect Edges')\n",
        "        self.detect_button.clicked.connect(self.detect)\n",
        "        \n",
        "        # To create a layout for the sliders and buttons:\n",
        "        hbox = QHBoxLayout()\n",
        "        hbox.addWidget(QLabel('Param1'))\n",
        "        hbox.addWidget(self.param1_slider)\n",
        "        hbox.addWidget(QLabel('Param2'))\n",
        "        hbox.addWidget(self.param2_slider)\n",
        "        \n",
        "        # CreTo createte a grid layout for the images:\n",
        "        grid = QGridLayout()\n",
        "        grid.addWidget(self.image_label, 0, 0)\n",
        "        grid.addWidget(self.edge_label, 0, 1)\n",
        "        \n",
        "        vbox = QVBoxLayout()\n",
        "        vbox.addWidget(self.title_label)  # To add the title label:\n",
        "        vbox.addLayout(hbox)\n",
        "        vbox.addWidget(self.load_button)\n",
        "        vbox.addWidget(self.detect_button)\n",
        "        vbox.addLayout(grid)\n",
        "        \n",
        "        # To set the layout of the widget:\n",
        "        self.setLayout(vbox)\n",
        "        # To set the window properties\n",
        "        self.setGeometry(300, 300, 600, 600)\n",
        "        self.setWindowTitle('Circular Hough Transform')\n",
        "        self.show()\n",
        "    \n",
        "    def load_image(self):\n",
        "        # To open a file dialog to select the image:\n",
        "        options = QFileDialog.Options()\n",
        "        options |= QFileDialog.ReadOnly\n",
        "        file_name, _ = QFileDialog.getOpenFileName(self,\"Select an image\", \"\",\"Images (*.png *.xpm *.jpg *.bmp);;All Files (*)\", options=options)\n",
        "        if file_name:\n",
        "            # To load the image:\n",
        "            self.image = cv2.imread(file_name)\n",
        "            # To convert the image to RGB:\n",
        "            self.image = cv2.cvtColor(self.image, cv2.COLOR_BGR2RGB)\n",
        "    \n",
        "    def detect(self):\n",
        "        # To clear the image_label widget:\n",
        "        self.image_label.clear()\n",
        "        # To preform Canny edge detection:\n",
        "        self.edges = cv2.Canny(self.image, self.param1_slider.value(), self.param1_slider.value() * 3)\n",
        "        \n",
        "        self.image_label.clear()\n",
        "        \n",
        "        # To preform Hough transform to detect circles:\n",
        "        circles = cv2.HoughCircles(self.edges, cv2.HOUGH_GRADIENT, 1, 20, param1=self.param1_slider.value(), param2=self.param2_slider.value(), minRadius=5, maxRadius=30)\n",
        "        \n",
        "        # To draw the circles on the image:\n",
        "        if circles is not None:\n",
        "            circles = np.uint16(np.around(circles))\n",
        "            for i in circles[0,:]:\n",
        "                # To draw the outer circle:\n",
        "                cv2.circle(self.image, (i[0], i[1]), i[2], (0, 255, 0), 2)\n",
        "                # To draw the center of the circle:\n",
        "                cv2.circle(self.image, (i[0], i[1]), 2, (0, 0, 255), 3)\n",
        "        \n",
        "        # To convert the edges image to grayscale:\n",
        "        edges_gray = cv2.cvtColor(self.edges, cv2.COLOR_GRAY2RGB)\n",
        "        # Set the size of the images:\n",
        "        self.image_label.setFixedSize(self.image.shape[1], self.image.shape[0])\n",
        "        self.edge_label.setFixedSize(self.edges.shape[1], self.edges.shape[0])\n",
        "        \n",
        "        # To display the images:\n",
        "        height, width, _ = self.image.shape\n",
        "        qt_image = QImage(self.image.data, width, height, width * 3, QImage.Format_RGB888).rgbSwapped()\n",
        "        pixmap = QPixmap.fromImage(qt_image)\n",
        "        self.image_label.setPixmap(pixmap)\n",
        "        self.image_label.setAlignment(Qt.AlignCenter)\n",
        "        height, width, _ = edges_gray.shape\n",
        "        qt_image = QImage(edges_gray.data, width, height, width * 3, QImage.Format_RGB888).rgbSwapped()\n",
        "        pixmap = QPixmap.fromImage(qt_image)\n",
        "        self.edge_label.setPixmap(pixmap)\n",
        "        self.edge_label.setAlignment(Qt.AlignCenter)"
      ]
    },
    {
      "cell_type": "code",
      "execution_count": null,
      "id": "8724616d",
      "metadata": {
        "id": "8724616d"
      },
      "outputs": [],
      "source": [
        "if __name__ == '__main__':\n",
        "    app = QApplication(sys.argv)\n",
        "    ex = DetectCircles()\n",
        "    sys.exit(app.exec_())"
      ]
    },
    {
      "cell_type": "code",
      "execution_count": null,
      "id": "09e72ed0",
      "metadata": {
        "id": "09e72ed0"
      },
      "outputs": [],
      "source": []
    }
  ],
  "metadata": {
    "kernelspec": {
      "display_name": "machineVision",
      "language": "python",
      "name": "machinevision"
    },
    "language_info": {
      "codemirror_mode": {
        "name": "ipython",
        "version": 3
      },
      "file_extension": ".py",
      "mimetype": "text/x-python",
      "name": "python",
      "nbconvert_exporter": "python",
      "pygments_lexer": "ipython3",
      "version": "3.9.13"
    },
    "colab": {
      "provenance": [],
      "include_colab_link": true
    }
  },
  "nbformat": 4,
  "nbformat_minor": 5
}